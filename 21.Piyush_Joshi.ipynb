{
  "nbformat": 4,
  "nbformat_minor": 0,
  "metadata": {
    "colab": {
      "name": "PiyushJoshiAssignment2.ipynb",
      "provenance": [],
      "collapsed_sections": []
    },
    "kernelspec": {
      "name": "python3",
      "display_name": "Python 3"
    },
    "language_info": {
      "name": "python"
    }
  },
  "cells": [
    {
      "cell_type": "markdown",
      "source": [
        "# **Big Data Assignment Part 2** \n",
        "---\n",
        "Submitted By - Piyush Joshi \n",
        "\n",
        "Roll No - DS5B-2121\n",
        "\n",
        "Batch - MSc Data Science and Analytics (Sem2)\n",
        "\n",
        "Submitted To - Prof. Bharti Motwani\n",
        "\n",
        "Topic - Divorce Prediction using Machine Learning (Linear Regression and Decision Tree Classifier Models) in PySpark\n",
        "\n",
        "---"
      ],
      "metadata": {
        "id": "brwh6qYPbf15"
      }
    },
    {
      "cell_type": "markdown",
      "source": [
        "**Information about the Dataset**\n",
        "\n",
        "Questions are ranked on a scale of 1-5 with 1 being the lowest and 5 being the highest. The last category states if the couple has divorced.\n",
        "** Independent Variables **\n",
        "1.\tIf one of us apologizes when our discussion deteriorates, the discussion ends.\n",
        "2.\tI know we can ignore our differences, even if things get hard sometimes.\n",
        "3.\tWhen we need it, we can take our discussions with my spouse from the beginning and correct it.\n",
        "4.\tWhen I discuss with my spouse, to contact him will eventually work.\n",
        "5.\tThe time I spent with my wife is special for us.\n",
        "6.\tWe don't have time at home as partners.\n",
        "7.\tWe are like two strangers who share the same environment at home rather than family.\n",
        "8.\tI enjoy our holidays with my wife.\n",
        "9.\tI enjoy traveling with my wife.\n",
        "10.\tMost of our goals are common to my spouse.\n",
        "11.\tI think that one day in the future, when I look back, I see that my spouse and I have been in harmony with each other.\n",
        "12.\tMy spouse and I have similar values in terms of personal freedom.\n",
        "13.\tMy spouse and I have similar sense of entertainment.\n",
        "14.\tMost of our goals for people (children, friends, etc.) are the same.\n",
        "15.\tOur dreams with my spouse are similar and harmonious.\n",
        "16.\tWe're compatible with my spouse about what love should be.\n",
        "17.\tWe share the same views about being happy in our life with my spouse\n",
        "18.\tMy spouse and I have similar ideas about how marriage should be\n",
        "19.\tMy spouse and I have similar ideas about how roles should be in marriage\n",
        "20.\tMy spouse and I have similar values in trust.\n",
        "21.\tI know exactly what my wife likes.\n",
        "22.\tI know how my spouse wants to be taken care of when she/he sick.\n",
        "23.\tI know my spouse's favorite food.\n",
        "24.\tI can tell you what kind of stress my spouse is facing in her/his life.\n",
        "25.\tI have knowledge of my spouse's inner world.\n",
        "26.\tI know my spouse's basic anxieties.\n",
        "27.\tI know what my spouse's current sources of stress are.\n",
        "28.\tI know my spouse's hopes and wishes.\n",
        "29.\tI know my spouse very well.\n",
        "30.\tI know my spouse's friends and their social relationships.\n",
        "31.\tI feel aggressive when I argue with my spouse.\n",
        "32.\tWhen discussing with my spouse, I usually use expressions such as â€˜you alwaysâ€™ or â€˜you neverâ€™ .\n",
        "33.\tI can use negative statements about my spouse's personality during our discussions.\n",
        "34.\tI can use offensive expressions during our discussions.\n",
        "35.\tI can insult my spouse during our discussions.\n",
        "36.\tI can be humiliating when we discussions.\n",
        "37.\tMy discussion with my spouse is not calm.\n",
        "38.\tI hate my spouse's way of open a subject.\n",
        "39.\tOur discussions often occur suddenly.\n",
        "40.\tWe're just starting a discussion before I know what's going on.\n",
        "41.\tWhen I talk to my spouse about something, my calm suddenly breaks.\n",
        "42.\tWhen I argue with my spouse, Ä± only go out and I don't say a word.\n",
        "43.\tI mostly stay silent to calm the environment a little bit.\n",
        "44.\tSometimes I think it's good for me to leave home for a while.\n",
        "45.\tI'd rather stay silent than discuss with my spouse.\n",
        "46.\tEven if I'm right in the discussion, I stay silent to hurt my spouse.\n",
        "47.\tWhen I discuss with my spouse, I stay silent because I am afraid of not being able to control my anger.\n",
        "48.\tI feel right in our discussions.\n",
        "49.\tI have nothing to do with what I've been accused of.\n",
        "50.\tI'm not actually the one who's guilty about what I'm accused of.\n",
        "51.\tI'm not the one who's wrong about problems at home.\n",
        "52.\tI wouldn't hesitate to tell my spouse about her/his inadequacy.\n",
        "53.\tWhen I discuss, I remind my spouse of her/his inadequacy.\n",
        "54.\tI'm not afraid to tell my spouse about her/his incompetence.\n",
        "55. **Divorce Y/N (Dependent Variable)**\n"
      ],
      "metadata": {
        "id": "p4XsIxZNQm_D"
      }
    },
    {
      "cell_type": "markdown",
      "source": [
        "# Code"
      ],
      "metadata": {
        "id": "bfLoZ-sxQ9hA"
      }
    },
    {
      "cell_type": "code",
      "execution_count": null,
      "metadata": {
        "colab": {
          "base_uri": "https://localhost:8080/"
        },
        "id": "-BnJ1J3x78jE",
        "outputId": "446610cb-d432-4c56-f53b-e9e1cad62600"
      },
      "outputs": [
        {
          "output_type": "stream",
          "name": "stdout",
          "text": [
            "Collecting pyspark\n",
            "  Downloading pyspark-3.2.1.tar.gz (281.4 MB)\n",
            "\u001b[K     |████████████████████████████████| 281.4 MB 35 kB/s \n",
            "\u001b[?25hCollecting py4j==0.10.9.3\n",
            "  Downloading py4j-0.10.9.3-py2.py3-none-any.whl (198 kB)\n",
            "\u001b[K     |████████████████████████████████| 198 kB 53.2 MB/s \n",
            "\u001b[?25hBuilding wheels for collected packages: pyspark\n",
            "  Building wheel for pyspark (setup.py) ... \u001b[?25l\u001b[?25hdone\n",
            "  Created wheel for pyspark: filename=pyspark-3.2.1-py2.py3-none-any.whl size=281853642 sha256=7619d5c673fc9e06b080fa1a85d0b51f73bcd079e3fd2535627f95898d8e0eae\n",
            "  Stored in directory: /root/.cache/pip/wheels/9f/f5/07/7cd8017084dce4e93e84e92efd1e1d5334db05f2e83bcef74f\n",
            "Successfully built pyspark\n",
            "Installing collected packages: py4j, pyspark\n",
            "Successfully installed py4j-0.10.9.3 pyspark-3.2.1\n"
          ]
        }
      ],
      "source": [
        "!pip install pyspark"
      ]
    },
    {
      "cell_type": "code",
      "source": [
        "from pyspark.sql import SparkSession\n",
        "session = SparkSession.builder.appName(\"divorce\").getOrCreate()"
      ],
      "metadata": {
        "id": "-_AZ-Zb_8Bl_"
      },
      "execution_count": null,
      "outputs": []
    },
    {
      "cell_type": "code",
      "source": [
        "!wget https://raw.githubusercontent.com/techpiyushjoshi/BigData_Assignment2/main/divorce.csv"
      ],
      "metadata": {
        "colab": {
          "base_uri": "https://localhost:8080/"
        },
        "id": "btWYuG98eFzd",
        "outputId": "3543ab5d-4cb6-4172-b8d0-2af511f35437"
      },
      "execution_count": null,
      "outputs": [
        {
          "output_type": "stream",
          "name": "stdout",
          "text": [
            "--2022-05-12 08:56:27--  https://raw.githubusercontent.com/techpiyushjoshi/BigData_Assignment2/main/divorce.csv\n",
            "Resolving raw.githubusercontent.com (raw.githubusercontent.com)... 185.199.108.133, 185.199.109.133, 185.199.110.133, ...\n",
            "Connecting to raw.githubusercontent.com (raw.githubusercontent.com)|185.199.108.133|:443... connected.\n",
            "HTTP request sent, awaiting response... 200 OK\n",
            "Length: 19579 (19K) [text/plain]\n",
            "Saving to: ‘divorce.csv’\n",
            "\n",
            "\rdivorce.csv           0%[                    ]       0  --.-KB/s               \rdivorce.csv         100%[===================>]  19.12K  --.-KB/s    in 0s      \n",
            "\n",
            "2022-05-12 08:56:27 (87.2 MB/s) - ‘divorce.csv’ saved [19579/19579]\n",
            "\n"
          ]
        }
      ]
    },
    {
      "cell_type": "code",
      "source": [
        "data = session.read.csv(\"divorce.csv\",inferSchema=True,header=True)"
      ],
      "metadata": {
        "id": "2cUzWn8f8jdI"
      },
      "execution_count": null,
      "outputs": []
    },
    {
      "cell_type": "code",
      "source": [
        "data.printSchema()"
      ],
      "metadata": {
        "colab": {
          "base_uri": "https://localhost:8080/"
        },
        "id": "h1J18K658rkN",
        "outputId": "b505d93e-e24c-44da-bef3-fbcf6822860b"
      },
      "execution_count": null,
      "outputs": [
        {
          "output_type": "stream",
          "name": "stdout",
          "text": [
            "root\n",
            " |-- Sorry_end: integer (nullable = true)\n",
            " |-- Ignore_diff: integer (nullable = true)\n",
            " |-- begin_correct: integer (nullable = true)\n",
            " |-- Contact: integer (nullable = true)\n",
            " |-- Special_time: integer (nullable = true)\n",
            " |-- No_home_time: integer (nullable = true)\n",
            " |-- 2_strangers: integer (nullable = true)\n",
            " |-- enjoy_holiday: integer (nullable = true)\n",
            " |-- enjoy_travel: integer (nullable = true)\n",
            " |-- common_goals: integer (nullable = true)\n",
            " |-- harmony: integer (nullable = true)\n",
            " |-- freeom_value: integer (nullable = true)\n",
            " |-- entertain: integer (nullable = true)\n",
            " |-- people_goals: integer (nullable = true)\n",
            " |-- dreams: integer (nullable = true)\n",
            " |-- love: integer (nullable = true)\n",
            " |-- happy: integer (nullable = true)\n",
            " |-- marriage: integer (nullable = true)\n",
            " |-- roles: integer (nullable = true)\n",
            " |-- trust: integer (nullable = true)\n",
            " |-- likes: integer (nullable = true)\n",
            " |-- care_sick: integer (nullable = true)\n",
            " |-- fav_food: integer (nullable = true)\n",
            " |-- stresses: integer (nullable = true)\n",
            " |-- inner_world: integer (nullable = true)\n",
            " |-- anxieties: integer (nullable = true)\n",
            " |-- current_stress: integer (nullable = true)\n",
            " |-- hopes_wishes: integer (nullable = true)\n",
            " |-- know_well: integer (nullable = true)\n",
            " |-- friends_social: integer (nullable = true)\n",
            " |-- Aggro_argue: integer (nullable = true)\n",
            " |-- Always_never: integer (nullable = true)\n",
            " |-- negative_personality: integer (nullable = true)\n",
            " |-- offensive_expressions: integer (nullable = true)\n",
            " |-- insult: integer (nullable = true)\n",
            " |-- humiliate: integer (nullable = true)\n",
            " |-- not_calm: integer (nullable = true)\n",
            " |-- hate_subjects: integer (nullable = true)\n",
            " |-- sudden_discussion: integer (nullable = true)\n",
            " |-- idk_what's_going_on: integer (nullable = true)\n",
            " |-- calm_breaks: integer (nullable = true)\n",
            " |-- argue_then_leave: integer (nullable = true)\n",
            " |-- silent_for_calm: integer (nullable = true)\n",
            " |-- good_to_leave_home: integer (nullable = true)\n",
            " |-- silence_instead_of_discussion: integer (nullable = true)\n",
            " |-- silence_for_harm: integer (nullable = true)\n",
            " |-- silence_fear_anger: integer (nullable = true)\n",
            " |-- I'm_right: integer (nullable = true)\n",
            " |-- accusations: integer (nullable = true)\n",
            " |-- I'm_not_guilty: integer (nullable = true)\n",
            " |-- I'm_not_wrong: integer (nullable = true)\n",
            " |-- no_hesitancy_inadequate: integer (nullable = true)\n",
            " |-- you're_inadequate: integer (nullable = true)\n",
            " |-- incompetence: integer (nullable = true)\n",
            " |-- Divorce_Y_N: integer (nullable = true)\n",
            "\n"
          ]
        }
      ]
    },
    {
      "cell_type": "code",
      "source": [
        "data.head(10)"
      ],
      "metadata": {
        "colab": {
          "base_uri": "https://localhost:8080/"
        },
        "id": "4FI6rN1-MJRx",
        "outputId": "b6137fe3-d259-4e05-b943-1045496f6b34"
      },
      "execution_count": null,
      "outputs": [
        {
          "output_type": "execute_result",
          "data": {
            "text/plain": [
              "[Row(Sorry_end=2, Ignore_diff=2, begin_correct=4, Contact=1, Special_time=0, No_home_time=0, 2_strangers=0, enjoy_holiday=0, enjoy_travel=0, common_goals=0, harmony=1, freeom_value=0, entertain=1, people_goals=1, dreams=0, love=1, happy=0, marriage=0, roles=0, trust=1, likes=0, care_sick=0, fav_food=0, stresses=0, inner_world=0, anxieties=0, current_stress=0, hopes_wishes=0, know_well=0, friends_social=1, Aggro_argue=1, Always_never=2, negative_personality=1, offensive_expressions=2, insult=0, humiliate=1, not_calm=2, hate_subjects=1, sudden_discussion=3, idk_what's_going_on=3, calm_breaks=2, argue_then_leave=1, silent_for_calm=1, good_to_leave_home=2, silence_instead_of_discussion=3, silence_for_harm=2, silence_fear_anger=1, I'm_right=3, accusations=3, I'm_not_guilty=3, I'm_not_wrong=2, no_hesitancy_inadequate=3, you're_inadequate=2, incompetence=1, Divorce_Y_N=1),\n",
              " Row(Sorry_end=4, Ignore_diff=4, begin_correct=4, Contact=4, Special_time=4, No_home_time=0, 2_strangers=0, enjoy_holiday=4, enjoy_travel=4, common_goals=4, harmony=4, freeom_value=3, entertain=4, people_goals=0, dreams=4, love=4, happy=4, marriage=4, roles=3, trust=2, likes=1, care_sick=1, fav_food=0, stresses=2, inner_world=2, anxieties=1, current_stress=2, hopes_wishes=0, know_well=1, friends_social=1, Aggro_argue=0, Always_never=4, negative_personality=2, offensive_expressions=3, insult=0, humiliate=2, not_calm=3, hate_subjects=4, sudden_discussion=2, idk_what's_going_on=4, calm_breaks=2, argue_then_leave=2, silent_for_calm=3, good_to_leave_home=4, silence_instead_of_discussion=2, silence_for_harm=2, silence_fear_anger=2, I'm_right=3, accusations=4, I'm_not_guilty=4, I'm_not_wrong=4, no_hesitancy_inadequate=4, you're_inadequate=2, incompetence=2, Divorce_Y_N=1),\n",
              " Row(Sorry_end=2, Ignore_diff=2, begin_correct=2, Contact=2, Special_time=1, No_home_time=3, 2_strangers=2, enjoy_holiday=1, enjoy_travel=1, common_goals=2, harmony=3, freeom_value=4, entertain=2, people_goals=3, dreams=3, love=3, happy=3, marriage=3, roles=3, trust=2, likes=1, care_sick=0, fav_food=1, stresses=2, inner_world=2, anxieties=2, current_stress=2, hopes_wishes=2, know_well=3, friends_social=2, Aggro_argue=3, Always_never=3, negative_personality=1, offensive_expressions=1, insult=1, humiliate=1, not_calm=2, hate_subjects=1, sudden_discussion=3, idk_what's_going_on=3, calm_breaks=3, argue_then_leave=3, silent_for_calm=2, good_to_leave_home=3, silence_instead_of_discussion=2, silence_for_harm=3, silence_fear_anger=2, I'm_right=3, accusations=1, I'm_not_guilty=1, I'm_not_wrong=1, no_hesitancy_inadequate=2, you're_inadequate=2, incompetence=2, Divorce_Y_N=1),\n",
              " Row(Sorry_end=3, Ignore_diff=2, begin_correct=3, Contact=2, Special_time=3, No_home_time=3, 2_strangers=3, enjoy_holiday=3, enjoy_travel=3, common_goals=3, harmony=4, freeom_value=3, entertain=3, people_goals=4, dreams=3, love=3, happy=3, marriage=3, roles=3, trust=4, likes=1, care_sick=1, fav_food=1, stresses=1, inner_world=2, anxieties=1, current_stress=1, hopes_wishes=1, know_well=1, friends_social=3, Aggro_argue=2, Always_never=3, negative_personality=2, offensive_expressions=2, insult=1, humiliate=1, not_calm=3, hate_subjects=3, sudden_discussion=4, idk_what's_going_on=4, calm_breaks=2, argue_then_leave=2, silent_for_calm=3, good_to_leave_home=2, silence_instead_of_discussion=3, silence_for_harm=2, silence_fear_anger=2, I'm_right=3, accusations=3, I'm_not_guilty=3, I'm_not_wrong=3, no_hesitancy_inadequate=2, you're_inadequate=2, incompetence=2, Divorce_Y_N=1),\n",
              " Row(Sorry_end=2, Ignore_diff=2, begin_correct=1, Contact=1, Special_time=1, No_home_time=1, 2_strangers=0, enjoy_holiday=0, enjoy_travel=0, common_goals=0, harmony=0, freeom_value=1, entertain=0, people_goals=1, dreams=1, love=1, happy=1, marriage=1, roles=2, trust=1, likes=1, care_sick=0, fav_food=0, stresses=0, inner_world=0, anxieties=2, current_stress=1, hopes_wishes=2, know_well=1, friends_social=1, Aggro_argue=1, Always_never=1, negative_personality=1, offensive_expressions=1, insult=0, humiliate=0, not_calm=0, hate_subjects=0, sudden_discussion=2, idk_what's_going_on=1, calm_breaks=0, argue_then_leave=2, silent_for_calm=3, good_to_leave_home=0, silence_instead_of_discussion=2, silence_for_harm=2, silence_fear_anger=1, I'm_right=2, accusations=3, I'm_not_guilty=2, I'm_not_wrong=2, no_hesitancy_inadequate=2, you're_inadequate=1, incompetence=0, Divorce_Y_N=1),\n",
              " Row(Sorry_end=0, Ignore_diff=0, begin_correct=1, Contact=0, Special_time=0, No_home_time=2, 2_strangers=0, enjoy_holiday=0, enjoy_travel=0, common_goals=1, harmony=0, freeom_value=2, entertain=1, people_goals=0, dreams=2, love=0, happy=2, marriage=1, roles=0, trust=1, likes=0, care_sick=0, fav_food=0, stresses=0, inner_world=2, anxieties=2, current_stress=0, hopes_wishes=0, know_well=0, friends_social=0, Aggro_argue=4, Always_never=1, negative_personality=1, offensive_expressions=1, insult=1, humiliate=1, not_calm=1, hate_subjects=2, sudden_discussion=0, idk_what's_going_on=2, calm_breaks=2, argue_then_leave=1, silent_for_calm=2, good_to_leave_home=3, silence_instead_of_discussion=0, silence_for_harm=2, silence_fear_anger=2, I'm_right=1, accusations=2, I'm_not_guilty=1, I'm_not_wrong=1, no_hesitancy_inadequate=1, you're_inadequate=2, incompetence=0, Divorce_Y_N=1),\n",
              " Row(Sorry_end=3, Ignore_diff=3, begin_correct=3, Contact=2, Special_time=1, No_home_time=3, 2_strangers=4, enjoy_holiday=3, enjoy_travel=2, common_goals=2, harmony=2, freeom_value=2, entertain=2, people_goals=3, dreams=2, love=3, happy=3, marriage=3, roles=3, trust=2, likes=3, care_sick=3, fav_food=3, stresses=3, inner_world=2, anxieties=3, current_stress=3, hopes_wishes=2, know_well=2, friends_social=2, Aggro_argue=1, Always_never=2, negative_personality=2, offensive_expressions=1, insult=1, humiliate=2, not_calm=3, hate_subjects=2, sudden_discussion=2, idk_what's_going_on=3, calm_breaks=3, argue_then_leave=3, silent_for_calm=3, good_to_leave_home=4, silence_instead_of_discussion=3, silence_for_harm=3, silence_fear_anger=2, I'm_right=3, accusations=2, I'm_not_guilty=3, I'm_not_wrong=3, no_hesitancy_inadequate=2, you're_inadequate=2, incompetence=2, Divorce_Y_N=1),\n",
              " Row(Sorry_end=2, Ignore_diff=1, begin_correct=2, Contact=2, Special_time=2, No_home_time=1, 2_strangers=0, enjoy_holiday=3, enjoy_travel=3, common_goals=2, harmony=4, freeom_value=3, entertain=2, people_goals=3, dreams=4, love=3, happy=2, marriage=3, roles=2, trust=1, likes=2, care_sick=1, fav_food=1, stresses=2, inner_world=3, anxieties=3, current_stress=2, hopes_wishes=2, know_well=2, friends_social=3, Aggro_argue=1, Always_never=1, negative_personality=0, offensive_expressions=2, insult=2, humiliate=1, not_calm=4, hate_subjects=4, sudden_discussion=4, idk_what's_going_on=4, calm_breaks=4, argue_then_leave=4, silent_for_calm=3, good_to_leave_home=2, silence_instead_of_discussion=0, silence_for_harm=0, silence_fear_anger=1, I'm_right=2, accusations=2, I'm_not_guilty=2, I'm_not_wrong=1, no_hesitancy_inadequate=1, you're_inadequate=1, incompetence=0, Divorce_Y_N=1),\n",
              " Row(Sorry_end=2, Ignore_diff=2, begin_correct=1, Contact=0, Special_time=0, No_home_time=4, 2_strangers=1, enjoy_holiday=3, enjoy_travel=3, common_goals=3, harmony=3, freeom_value=3, entertain=3, people_goals=3, dreams=3, love=3, happy=3, marriage=3, roles=3, trust=3, likes=2, care_sick=2, fav_food=2, stresses=3, inner_world=2, anxieties=3, current_stress=2, hopes_wishes=3, know_well=2, friends_social=3, Aggro_argue=1, Always_never=1, negative_personality=1, offensive_expressions=1, insult=1, humiliate=1, not_calm=1, hate_subjects=2, sudden_discussion=2, idk_what's_going_on=2, calm_breaks=2, argue_then_leave=2, silent_for_calm=2, good_to_leave_home=2, silence_instead_of_discussion=2, silence_for_harm=1, silence_fear_anger=1, I'm_right=1, accusations=1, I'm_not_guilty=1, I'm_not_wrong=1, no_hesitancy_inadequate=1, you're_inadequate=1, incompetence=1, Divorce_Y_N=1),\n",
              " Row(Sorry_end=1, Ignore_diff=1, begin_correct=1, Contact=1, Special_time=1, No_home_time=2, 2_strangers=0, enjoy_holiday=2, enjoy_travel=2, common_goals=2, harmony=3, freeom_value=0, entertain=0, people_goals=2, dreams=1, love=0, happy=1, marriage=2, roles=1, trust=0, likes=0, care_sick=0, fav_food=0, stresses=1, inner_world=1, anxieties=1, current_stress=1, hopes_wishes=1, know_well=1, friends_social=1, Aggro_argue=1, Always_never=1, negative_personality=0, offensive_expressions=1, insult=0, humiliate=0, not_calm=1, hate_subjects=1, sudden_discussion=2, idk_what's_going_on=2, calm_breaks=1, argue_then_leave=2, silent_for_calm=3, good_to_leave_home=2, silence_instead_of_discussion=2, silence_for_harm=2, silence_fear_anger=0, I'm_right=2, accusations=2, I'm_not_guilty=2, I'm_not_wrong=2, no_hesitancy_inadequate=4, you're_inadequate=3, incompetence=3, Divorce_Y_N=1)]"
            ]
          },
          "metadata": {},
          "execution_count": 8
        }
      ]
    },
    {
      "cell_type": "code",
      "source": [
        "data.columns"
      ],
      "metadata": {
        "colab": {
          "base_uri": "https://localhost:8080/"
        },
        "id": "nOvDFspfMRPc",
        "outputId": "1335bc54-c44b-4851-8fdd-99840fdeba64"
      },
      "execution_count": null,
      "outputs": [
        {
          "output_type": "execute_result",
          "data": {
            "text/plain": [
              "['Sorry_end',\n",
              " 'Ignore_diff',\n",
              " 'begin_correct',\n",
              " 'Contact',\n",
              " 'Special_time',\n",
              " 'No_home_time',\n",
              " '2_strangers',\n",
              " 'enjoy_holiday',\n",
              " 'enjoy_travel',\n",
              " 'common_goals',\n",
              " 'harmony',\n",
              " 'freeom_value',\n",
              " 'entertain',\n",
              " 'people_goals',\n",
              " 'dreams',\n",
              " 'love',\n",
              " 'happy',\n",
              " 'marriage',\n",
              " 'roles',\n",
              " 'trust',\n",
              " 'likes',\n",
              " 'care_sick',\n",
              " 'fav_food',\n",
              " 'stresses',\n",
              " 'inner_world',\n",
              " 'anxieties',\n",
              " 'current_stress',\n",
              " 'hopes_wishes',\n",
              " 'know_well',\n",
              " 'friends_social',\n",
              " 'Aggro_argue',\n",
              " 'Always_never',\n",
              " 'negative_personality',\n",
              " 'offensive_expressions',\n",
              " 'insult',\n",
              " 'humiliate',\n",
              " 'not_calm',\n",
              " 'hate_subjects',\n",
              " 'sudden_discussion',\n",
              " \"idk_what's_going_on\",\n",
              " 'calm_breaks',\n",
              " 'argue_then_leave',\n",
              " 'silent_for_calm',\n",
              " 'good_to_leave_home',\n",
              " 'silence_instead_of_discussion',\n",
              " 'silence_for_harm',\n",
              " 'silence_fear_anger',\n",
              " \"I'm_right\",\n",
              " 'accusations',\n",
              " \"I'm_not_guilty\",\n",
              " \"I'm_not_wrong\",\n",
              " 'no_hesitancy_inadequate',\n",
              " \"you're_inadequate\",\n",
              " 'incompetence',\n",
              " 'Divorce_Y_N']"
            ]
          },
          "metadata": {},
          "execution_count": 9
        }
      ]
    },
    {
      "cell_type": "markdown",
      "source": [
        "# Applying Vector Assembler\n",
        "As the data is already in a uniform scale and numeric, no need of Standard Scaling and String Indexing"
      ],
      "metadata": {
        "id": "osgm_Gpfk9ks"
      }
    },
    {
      "cell_type": "code",
      "source": [
        "from pyspark.ml.feature import VectorAssembler\n",
        "assembler = VectorAssembler(inputCols = ['Sorry_end',\n",
        " 'Ignore_diff',\n",
        " 'begin_correct',\n",
        " 'Contact',\n",
        " 'Special_time',\n",
        " 'No_home_time',\n",
        " '2_strangers',\n",
        " 'enjoy_holiday',\n",
        " 'enjoy_travel',\n",
        " 'common_goals',\n",
        " 'harmony',\n",
        " 'freeom_value',\n",
        " 'entertain',\n",
        " 'people_goals',\n",
        " 'dreams',\n",
        " 'love',\n",
        " 'happy',\n",
        " 'marriage',\n",
        " 'roles',\n",
        " 'trust',\n",
        " 'likes',\n",
        " 'care_sick',\n",
        " 'fav_food',\n",
        " 'stresses',\n",
        " 'inner_world',\n",
        " 'anxieties',\n",
        " 'current_stress',\n",
        " 'hopes_wishes',\n",
        " 'know_well',\n",
        " 'friends_social',\n",
        " 'Aggro_argue',\n",
        " 'Always_never',\n",
        " 'negative_personality',\n",
        " 'offensive_expressions',\n",
        " 'insult',\n",
        " 'humiliate',\n",
        " 'not_calm',\n",
        " 'hate_subjects',\n",
        " 'sudden_discussion',\n",
        " \"idk_what's_going_on\",\n",
        " 'calm_breaks',\n",
        " 'argue_then_leave',\n",
        " 'silent_for_calm',\n",
        " 'good_to_leave_home',\n",
        " 'silence_instead_of_discussion',\n",
        " 'silence_for_harm',\n",
        " 'silence_fear_anger',\n",
        " \"I'm_right\",\n",
        " 'accusations',\n",
        " \"I'm_not_guilty\",\n",
        " \"I'm_not_wrong\",\n",
        " 'no_hesitancy_inadequate',\n",
        " \"you're_inadequate\",\n",
        " 'incompetence'],outputCol=\"all_features\")"
      ],
      "metadata": {
        "id": "32lC-sUD8uz3"
      },
      "execution_count": null,
      "outputs": []
    },
    {
      "cell_type": "markdown",
      "source": [
        "# Building Machine Learning Model\n",
        "### Model 1 --> Linear Regression Model"
      ],
      "metadata": {
        "id": "pTv9Z6gCkL0e"
      }
    },
    {
      "cell_type": "code",
      "source": [
        "# from pyspark.ml.regression import LinearRegression\n",
        "from pyspark.ml.regression import LinearRegression"
      ],
      "metadata": {
        "id": "JxDsaWkKMf19"
      },
      "execution_count": null,
      "outputs": []
    },
    {
      "cell_type": "code",
      "source": [
        "lr_model = LinearRegression(featuresCol=\"all_features\",labelCol='Divorce_Y_N')"
      ],
      "metadata": {
        "id": "um5se-e5NL8x"
      },
      "execution_count": null,
      "outputs": []
    },
    {
      "cell_type": "code",
      "source": [
        "from pyspark.ml import Pipeline"
      ],
      "metadata": {
        "id": "bffBlBWU9uUu"
      },
      "execution_count": null,
      "outputs": []
    },
    {
      "cell_type": "code",
      "source": [
        "mypipeline = Pipeline(stages = [assembler,lr_model])"
      ],
      "metadata": {
        "id": "XAJZVjW79zj3"
      },
      "execution_count": null,
      "outputs": []
    },
    {
      "cell_type": "code",
      "source": [
        "train,test = data.randomSplit([0.6,0.4])"
      ],
      "metadata": {
        "id": "BXGnQMgf98j5"
      },
      "execution_count": null,
      "outputs": []
    },
    {
      "cell_type": "code",
      "source": [
        "lr_model = mypipeline.fit(train)"
      ],
      "metadata": {
        "id": "WmGiZ3emN6eO"
      },
      "execution_count": null,
      "outputs": []
    },
    {
      "cell_type": "code",
      "source": [
        "lr_results = lr_model.transform(test)"
      ],
      "metadata": {
        "id": "SNLrqxAM-FRS"
      },
      "execution_count": null,
      "outputs": []
    },
    {
      "cell_type": "code",
      "source": [
        "lr_results.show(2)"
      ],
      "metadata": {
        "colab": {
          "base_uri": "https://localhost:8080/"
        },
        "id": "XMPQWpIS-IeD",
        "outputId": "19f9c9bd-65ca-47cd-8a24-e2f2262a92c8"
      },
      "execution_count": null,
      "outputs": [
        {
          "output_type": "stream",
          "name": "stdout",
          "text": [
            "+---------+-----------+-------------+-------+------------+------------+-----------+-------------+------------+------------+-------+------------+---------+------------+------+----+-----+--------+-----+-----+-----+---------+--------+--------+-----------+---------+--------------+------------+---------+--------------+-----------+------------+--------------------+---------------------+------+---------+--------+-------------+-----------------+-------------------+-----------+----------------+---------------+------------------+-----------------------------+----------------+------------------+---------+-----------+--------------+-------------+-----------------------+-----------------+------------+-----------+--------------------+--------------------+\n",
            "|Sorry_end|Ignore_diff|begin_correct|Contact|Special_time|No_home_time|2_strangers|enjoy_holiday|enjoy_travel|common_goals|harmony|freeom_value|entertain|people_goals|dreams|love|happy|marriage|roles|trust|likes|care_sick|fav_food|stresses|inner_world|anxieties|current_stress|hopes_wishes|know_well|friends_social|Aggro_argue|Always_never|negative_personality|offensive_expressions|insult|humiliate|not_calm|hate_subjects|sudden_discussion|idk_what's_going_on|calm_breaks|argue_then_leave|silent_for_calm|good_to_leave_home|silence_instead_of_discussion|silence_for_harm|silence_fear_anger|I'm_right|accusations|I'm_not_guilty|I'm_not_wrong|no_hesitancy_inadequate|you're_inadequate|incompetence|Divorce_Y_N|        all_features|          prediction|\n",
            "+---------+-----------+-------------+-------+------------+------------+-----------+-------------+------------+------------+-------+------------+---------+------------+------+----+-----+--------+-----+-----+-----+---------+--------+--------+-----------+---------+--------------+------------+---------+--------------+-----------+------------+--------------------+---------------------+------+---------+--------+-------------+-----------------+-------------------+-----------+----------------+---------------+------------------+-----------------------------+----------------+------------------+---------+-----------+--------------+-------------+-----------------------+-----------------+------------+-----------+--------------------+--------------------+\n",
            "|        0|          0|            0|      0|           0|           0|          0|            0|           0|           0|      0|           0|        0|           0|     0|   0|    0|       0|    0|    0|    0|        0|       0|       0|          0|        0|             0|           0|        0|             0|          0|           0|                   0|                    0|     0|        0|       2|            1|                1|                  0|          1|               3|              4|                 0|                            4|               3|                 4|        3|          1|             3|            3|                      0|                1|           0|          0|(54,[36,37,38,40,...|-0.08521960213564683|\n",
            "|        0|          0|            0|      0|           0|           0|          0|            0|           0|           0|      0|           0|        0|           0|     0|   0|    0|       0|    0|    0|    0|        0|       0|       0|          0|        0|             0|           0|        0|             0|          0|           0|                   1|                    1|     0|        0|       0|            1|                1|                  0|          0|               3|              2|                 1|                            3|               3|                 0|        2|          3|             2|            2|                      4|                1|           1|          0|(54,[32,33,37,38,...| 0.08279243762612648|\n",
            "+---------+-----------+-------------+-------+------------+------------+-----------+-------------+------------+------------+-------+------------+---------+------------+------+----+-----+--------+-----+-----+-----+---------+--------+--------+-----------+---------+--------------+------------+---------+--------------+-----------+------------+--------------------+---------------------+------+---------+--------+-------------+-----------------+-------------------+-----------+----------------+---------------+------------------+-----------------------------+----------------+------------------+---------+-----------+--------------+-------------+-----------------------+-----------------+------------+-----------+--------------------+--------------------+\n",
            "only showing top 2 rows\n",
            "\n"
          ]
        }
      ]
    },
    {
      "cell_type": "code",
      "source": [
        "from pyspark.ml.evaluation import RegressionEvaluator"
      ],
      "metadata": {
        "id": "iON-nD-B-LGq"
      },
      "execution_count": null,
      "outputs": []
    },
    {
      "cell_type": "code",
      "source": [
        "metricnamelist = [\"rmse\",\"mse\",\"mae\",\"r2\",\"var\"]\n",
        "for metric in metricnamelist:\n",
        "  reg_eval = RegressionEvaluator(predictionCol=\"prediction\",labelCol='Divorce_Y_N',metricName=metric)\n",
        "  print(metric,\":\",reg_eval.evaluate(lr_results))"
      ],
      "metadata": {
        "id": "DdWf3x9aBbMJ",
        "colab": {
          "base_uri": "https://localhost:8080/"
        },
        "outputId": "08ad5b80-7e3d-48a7-fa9a-308a223aa0b7"
      },
      "execution_count": null,
      "outputs": [
        {
          "output_type": "stream",
          "name": "stdout",
          "text": [
            "rmse : 0.19839072719656609\n",
            "mse : 0.039358880637582305\n",
            "mae : 0.12460339142445466\n",
            "r2 : 0.8422066694438746\n",
            "var : 0.22960336197407735\n"
          ]
        }
      ]
    },
    {
      "cell_type": "markdown",
      "source": [
        "### Model 2 --> Decision Tree Regressor Model "
      ],
      "metadata": {
        "id": "dwqzRm_PkFJ_"
      }
    },
    {
      "cell_type": "code",
      "source": [
        "from pyspark.ml.regression import DecisionTreeRegressor"
      ],
      "metadata": {
        "id": "1sr_uUpriAFr"
      },
      "execution_count": null,
      "outputs": []
    },
    {
      "cell_type": "code",
      "source": [
        "dtr_model = DecisionTreeRegressor(featuresCol='all_features',labelCol='Divorce_Y_N')"
      ],
      "metadata": {
        "id": "TRK1CduMinFr"
      },
      "execution_count": null,
      "outputs": []
    },
    {
      "cell_type": "code",
      "source": [
        "from pyspark.ml.pipeline import Pipeline"
      ],
      "metadata": {
        "id": "Ss2y8TWhi757"
      },
      "execution_count": null,
      "outputs": []
    },
    {
      "cell_type": "code",
      "source": [
        "secondpipeline = Pipeline(stages = [assembler,dtr_model])"
      ],
      "metadata": {
        "id": "ZotTBD1xi_pd"
      },
      "execution_count": null,
      "outputs": []
    },
    {
      "cell_type": "code",
      "source": [
        "dtr_model = secondpipeline.fit(train)"
      ],
      "metadata": {
        "id": "qlVZBHFnjGm_"
      },
      "execution_count": null,
      "outputs": []
    },
    {
      "cell_type": "code",
      "source": [
        "dtr_results = dtr_model.transform(test)"
      ],
      "metadata": {
        "id": "KPSwXUMijYRP"
      },
      "execution_count": null,
      "outputs": []
    },
    {
      "cell_type": "code",
      "source": [
        "dtr_results.show()"
      ],
      "metadata": {
        "colab": {
          "base_uri": "https://localhost:8080/"
        },
        "id": "sg00ckNXjeR6",
        "outputId": "b99146ff-7a85-4dde-bfcb-7b1cf7bbbe7b"
      },
      "execution_count": null,
      "outputs": [
        {
          "output_type": "stream",
          "name": "stdout",
          "text": [
            "+---------+-----------+-------------+-------+------------+------------+-----------+-------------+------------+------------+-------+------------+---------+------------+------+----+-----+--------+-----+-----+-----+---------+--------+--------+-----------+---------+--------------+------------+---------+--------------+-----------+------------+--------------------+---------------------+------+---------+--------+-------------+-----------------+-------------------+-----------+----------------+---------------+------------------+-----------------------------+----------------+------------------+---------+-----------+--------------+-------------+-----------------------+-----------------+------------+-----------+--------------------+----------+\n",
            "|Sorry_end|Ignore_diff|begin_correct|Contact|Special_time|No_home_time|2_strangers|enjoy_holiday|enjoy_travel|common_goals|harmony|freeom_value|entertain|people_goals|dreams|love|happy|marriage|roles|trust|likes|care_sick|fav_food|stresses|inner_world|anxieties|current_stress|hopes_wishes|know_well|friends_social|Aggro_argue|Always_never|negative_personality|offensive_expressions|insult|humiliate|not_calm|hate_subjects|sudden_discussion|idk_what's_going_on|calm_breaks|argue_then_leave|silent_for_calm|good_to_leave_home|silence_instead_of_discussion|silence_for_harm|silence_fear_anger|I'm_right|accusations|I'm_not_guilty|I'm_not_wrong|no_hesitancy_inadequate|you're_inadequate|incompetence|Divorce_Y_N|        all_features|prediction|\n",
            "+---------+-----------+-------------+-------+------------+------------+-----------+-------------+------------+------------+-------+------------+---------+------------+------+----+-----+--------+-----+-----+-----+---------+--------+--------+-----------+---------+--------------+------------+---------+--------------+-----------+------------+--------------------+---------------------+------+---------+--------+-------------+-----------------+-------------------+-----------+----------------+---------------+------------------+-----------------------------+----------------+------------------+---------+-----------+--------------+-------------+-----------------------+-----------------+------------+-----------+--------------------+----------+\n",
            "|        0|          0|            0|      0|           0|           0|          0|            0|           0|           0|      0|           0|        0|           0|     0|   0|    0|       0|    0|    0|    0|        0|       0|       0|          0|        0|             0|           0|        0|             0|          0|           0|                   0|                    0|     0|        0|       2|            1|                1|                  0|          1|               3|              4|                 0|                            4|               3|                 4|        3|          1|             3|            3|                      0|                1|           0|          0|(54,[36,37,38,40,...|       0.0|\n",
            "|        0|          0|            0|      0|           0|           0|          0|            0|           0|           0|      0|           0|        0|           0|     0|   0|    0|       0|    0|    0|    0|        0|       0|       0|          0|        0|             0|           0|        0|             0|          0|           0|                   1|                    1|     0|        0|       0|            1|                1|                  0|          0|               3|              2|                 1|                            3|               3|                 0|        2|          3|             2|            2|                      4|                1|           1|          0|(54,[32,33,37,38,...|       0.0|\n",
            "|        0|          0|            0|      0|           0|           0|          0|            0|           0|           0|      0|           0|        0|           0|     0|   0|    0|       0|    0|    0|    0|        0|       0|       0|          0|        0|             0|           0|        0|             0|          0|           1|                   0|                    0|     0|        0|       0|            0|                0|                  0|          0|               0|              4|                 0|                            4|               3|                 1|        3|          1|             3|            3|                      3|                1|           0|          0|(54,[31,42,44,45,...|       0.0|\n",
            "|        0|          0|            0|      0|           0|           0|          0|            0|           0|           0|      0|           0|        0|           0|     0|   0|    0|       0|    0|    0|    0|        0|       0|       0|          0|        0|             0|           0|        0|             0|          1|           1|                   1|                    1|     1|        0|       1|            1|                2|                  1|          2|               2|              4|                 2|                            4|               0|                 0|        0|          1|             1|            2|                      1|                0|           2|          0|(54,[30,31,32,33,...|       0.0|\n",
            "|        0|          0|            0|      0|           0|           0|          0|            0|           0|           0|      0|           0|        0|           0|     0|   0|    0|       0|    0|    0|    0|        0|       0|       0|          0|        0|             0|           0|        0|             0|          2|           1|                   1|                    1|     0|        0|       0|            1|                1|                  0|          0|               3|              2|                 1|                            2|               2|                 1|        2|          3|             2|            2|                      3|                1|           1|          0|(54,[30,31,32,33,...|       0.0|\n",
            "|        0|          0|            0|      0|           0|           0|          0|            0|           0|           0|      0|           0|        0|           0|     0|   0|    0|       0|    0|    0|    0|        0|       0|       0|          0|        0|             0|           0|        0|             0|          4|           4|                   3|                    4|     0|        0|       4|            0|                1|                  0|          1|               0|              0|                 0|                            0|               1|                 0|        4|          1|             1|            4|                      2|                2|           2|          0|(54,[30,31,32,33,...|       0.0|\n",
            "|        0|          0|            0|      0|           0|           0|          0|            0|           0|           0|      0|           0|        0|           0|     0|   0|    0|       0|    0|    0|    0|        0|       0|       0|          1|        1|             1|           1|        1|             1|          1|           0|                   0|                    0|     0|        0|       0|            0|                0|                  0|          2|               0|              3|                 0|                            3|               3|                 1|        2|          1|             1|            1|                      0|                1|           0|          0|(54,[24,25,26,27,...|       0.0|\n",
            "|        0|          0|            0|      0|           0|           0|          0|            0|           0|           0|      0|           0|        1|           0|     0|   0|    0|       0|    0|    0|    0|        0|       0|       0|          0|        0|             0|           0|        0|             0|          0|           0|                   0|                    1|     0|        0|       0|            0|                0|                  0|          0|               0|              3|                 0|                            0|               0|                 0|        2|          0|             0|            1|                      2|                2|           1|          0|(54,[12,33,42,47,...|       0.0|\n",
            "|        0|          0|            0|      0|           0|           0|          0|            0|           0|           0|      0|           0|        1|           0|     0|   1|    0|       0|    0|    1|    1|        0|       0|       0|          1|        1|             1|           1|        1|             1|          0|           0|                   0|                    0|     0|        0|       1|            1|                1|                  0|          1|               0|              1|                 2|                            2|               2|                 2|        2|          2|             2|            2|                      0|                1|           0|          0|(54,[12,15,19,20,...|       0.0|\n",
            "|        0|          0|            0|      0|           0|           0|          0|            0|           0|           0|      0|           1|        0|           0|     0|   0|    0|       0|    0|    0|    0|        0|       0|       0|          0|        0|             0|           0|        0|             0|          0|           0|                   0|                    1|     0|        0|       1|            0|                4|                  1|          2|               1|              1|                 0|                            4|               3|                 3|        2|          2|             3|            2|                      4|                3|           1|          0|(54,[11,33,36,38,...|       0.0|\n",
            "|        0|          0|            0|      0|           0|           0|          0|            0|           0|           0|      0|           1|        0|           0|     0|   0|    1|       0|    0|    0|    1|        0|       0|       0|          0|        0|             0|           0|        0|             0|          0|           0|                   0|                    0|     0|        0|       0|            0|                0|                  0|          1|               0|              1|                 0|                            0|               0|                 1|        0|          0|             0|            1|                      0|                0|           1|          0|(54,[11,16,20,40,...|       0.0|\n",
            "|        0|          0|            0|      0|           0|           0|          0|            0|           0|           1|      0|           0|        0|           0|     0|   0|    0|       0|    0|    0|    0|        0|       0|       1|          1|        0|             0|           0|        0|             0|          0|           0|                   0|                    0|     0|        0|       0|            0|                0|                  0|          0|               0|              1|                 0|                            3|               2|                 0|        2|          2|             2|            2|                      2|                2|           2|          0|(54,[9,23,24,42,4...|       0.0|\n",
            "|        0|          0|            0|      0|           0|           0|          0|            0|           0|           1|      0|           1|        2|           0|     1|   0|    0|       0|    0|    0|    0|        0|       0|       0|          0|        0|             0|           0|        0|             0|          2|           1|                   1|                    1|     0|        0|       1|            1|                2|                  1|          1|               3|              2|                 0|                            2|               1|                 2|        3|          2|             2|            2|                      1|                1|           0|          0|(54,[9,11,12,14,3...|       0.0|\n",
            "|        0|          0|            0|      0|           0|           0|          0|            0|           0|           2|      0|           1|        1|           0|     0|   0|    0|       0|    0|    0|    1|        0|       0|       1|          1|        0|             0|           0|        1|             0|          2|           0|                   0|                    1|     0|        0|       1|            0|                2|                  0|          1|               3|              2|                 0|                            1|               3|                 3|        2|          2|             1|            1|                      2|                0|           0|          0|(54,[9,11,12,20,2...|       0.0|\n",
            "|        0|          0|            0|      0|           0|           1|          0|            0|           0|           1|      0|           1|        1|           0|     0|   1|    0|       0|    0|    0|    0|        0|       0|       0|          2|        1|             1|           0|        0|             0|          0|           0|                   0|                    0|     0|        0|       0|            0|                0|                  0|          0|               0|              1|                 1|                            0|               4|                 1|        1|          4|             4|            2|                      2|                0|           1|          0|(54,[5,9,11,12,15...|       0.0|\n",
            "|        0|          0|            0|      0|           0|           2|          0|            0|           0|           0|      0|           0|        0|           0|     0|   0|    0|       0|    0|    0|    0|        0|       0|       2|          0|        0|             0|           0|        0|             0|          0|           0|                   0|                    0|     0|        0|       1|            0|                0|                  0|          0|               0|              2|                 2|                            4|               4|                 4|        2|          2|             2|            2|                      4|                2|           2|          0|(54,[5,23,36,42,4...|       0.0|\n",
            "|        0|          0|            0|      0|           0|           2|          0|            0|           0|           1|      0|           0|        0|           0|     1|   0|    1|       0|    1|    0|    0|        0|       0|       0|          0|        0|             0|           0|        0|             1|          0|           1|                   0|                    1|     0|        0|       1|            1|                1|                  0|          0|               4|              2|                 0|                            1|               2|                 1|        3|          1|             1|            1|                      1|                1|           0|          0|(54,[5,9,14,16,18...|       0.0|\n",
            "|        0|          0|            1|      0|           0|           0|          0|            1|           1|           0|      0|           0|        0|           1|     0|   0|    0|       0|    0|    0|    0|        0|       0|       0|          0|        0|             0|           0|        0|             0|          1|           0|                   0|                    1|     0|        0|       0|            0|                0|                  0|          0|               2|              2|                 0|                            3|               3|                 3|        3|          0|             1|            3|                      3|                3|           1|          0|(54,[2,7,8,13,30,...|       0.0|\n",
            "|        0|          1|            0|      0|           0|           0|          0|            0|           0|           0|      0|           0|        0|           0|     0|   0|    1|       0|    0|    0|    0|        0|       0|       0|          0|        0|             0|           0|        0|             0|          0|           0|                   0|                    0|     0|        0|       0|            0|                0|                  0|          0|               2|              4|                 4|                            4|               4|                 4|        4|          4|             2|            2|                      0|                0|           0|          0|(54,[1,16,41,42,4...|       0.0|\n",
            "|        0|          1|            0|      0|           0|           0|          0|            1|           0|           0|      0|           0|        0|           1|     0|   0|    0|       0|    0|    0|    0|        0|       0|       0|          1|        1|             1|           0|        0|             0|          0|           0|                   0|                    0|     0|        0|       0|            0|                0|                  0|          0|               0|              3|                 1|                            0|               3|                 0|        1|          0|             0|            0|                      2|                0|           0|          0|(54,[1,7,13,24,25...|       0.0|\n",
            "+---------+-----------+-------------+-------+------------+------------+-----------+-------------+------------+------------+-------+------------+---------+------------+------+----+-----+--------+-----+-----+-----+---------+--------+--------+-----------+---------+--------------+------------+---------+--------------+-----------+------------+--------------------+---------------------+------+---------+--------+-------------+-----------------+-------------------+-----------+----------------+---------------+------------------+-----------------------------+----------------+------------------+---------+-----------+--------------+-------------+-----------------------+-----------------+------------+-----------+--------------------+----------+\n",
            "only showing top 20 rows\n",
            "\n"
          ]
        }
      ]
    },
    {
      "cell_type": "code",
      "source": [
        "metricnamelist = [\"rmse\",\"mse\",\"mae\",\"r2\",\"var\"]\n",
        "for metric in metricnamelist:\n",
        "  reg_eval = RegressionEvaluator(predictionCol=\"prediction\",labelCol='Divorce_Y_N',metricName=metric)\n",
        "  print(metric,\":\",reg_eval.evaluate(dtr_results))"
      ],
      "metadata": {
        "colab": {
          "base_uri": "https://localhost:8080/"
        },
        "id": "fUnYMOXjjjG0",
        "outputId": "79a5cd94-4ff5-40e0-86f7-a9cf8615a3c5"
      },
      "execution_count": null,
      "outputs": [
        {
          "output_type": "stream",
          "name": "stdout",
          "text": [
            "rmse : 0.12598815766974242\n",
            "mse : 0.015873015873015872\n",
            "mae : 0.015873015873015872\n",
            "r2 : 0.9363636363636364\n",
            "var : 0.24867724867724858\n"
          ]
        }
      ]
    },
    {
      "cell_type": "markdown",
      "source": [
        "# Final Result\n",
        "As the values of metrics of Decision Tree Regressor Model are more accurate, we can say its predictions are more accurate than Linear Regression model"
      ],
      "metadata": {
        "id": "IIBuPP8HlaSj"
      }
    }
  ]
}